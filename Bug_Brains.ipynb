{
  "nbformat": 4,
  "nbformat_minor": 0,
  "metadata": {
    "colab": {
      "provenance": [],
      "authorship_tag": "ABX9TyM5V5d1UFyc8wgcoIg3CrlY",
      "include_colab_link": true
    },
    "kernelspec": {
      "name": "python3",
      "display_name": "Python 3"
    },
    "language_info": {
      "name": "python"
    }
  },
  "cells": [
    {
      "cell_type": "markdown",
      "metadata": {
        "id": "view-in-github",
        "colab_type": "text"
      },
      "source": [
        "<a href=\"https://colab.research.google.com/github/ifaul/ifaul.github.io/blob/Milestone-1-Update-10%2F3/Bug_Brains.ipynb\" target=\"_parent\"><img src=\"https://colab.research.google.com/assets/colab-badge.svg\" alt=\"Open In Colab\"/></a>"
      ]
    },
    {
      "cell_type": "code",
      "source": [
        "%cd /content\n",
        "!git clone https://github.com/ifaul/ifaul.github.io\n",
        "import pandas as pd"
      ],
      "metadata": {
        "colab": {
          "base_uri": "https://localhost:8080/"
        },
        "id": "Ggv6jtscLMc-",
        "outputId": "5969c2e9-911c-4561-ab43-bae0a5c960fe"
      },
      "execution_count": 1,
      "outputs": [
        {
          "output_type": "stream",
          "name": "stdout",
          "text": [
            "Cloning into 'ifaul.github.io'...\n",
            "remote: Enumerating objects: 20, done.\u001b[K\n",
            "remote: Counting objects: 100% (20/20), done.\u001b[K\n",
            "remote: Compressing objects: 100% (17/17), done.\u001b[K\n",
            "remote: Total 20 (delta 2), reused 0 (delta 0), pack-reused 0 (from 0)\u001b[K\n",
            "Receiving objects: 100% (20/20), 136.28 KiB | 783.00 KiB/s, done.\n",
            "Resolving deltas: 100% (2/2), done.\n"
          ]
        }
      ]
    },
    {
      "cell_type": "code",
      "source": [
        "bugs_df = pd.read_excel('ifaul.github.io/bugs.xlsx',skiprows=1) # Headers are on the second row!\n",
        "\n",
        "# 180 observations of individual wasps and their traits\n",
        "# Objective of paper was to relate brain \"investment\" to social factors (ColSize, found, NollCaste)\n",
        "# prediction was that more social -> less brain investment\n",
        "\n",
        "#found = how the colony is founded ('mode of founding')\n",
        "# swarm: queen + workers decides;\n",
        "# indep: queen decides where swarm goes\n",
        "# solit: one wasp decides\n",
        "\n",
        "#NollCaste = classify difference between queen vs worker\n",
        "# Morph: queens are distinct in shape\n",
        "# none: no large difference between queen and workers \"continuous variation\"\n",
        "# size: queen is larger but same shape\n",
        "# phys: only queen has ovaries\n",
        "\n",
        "#caste = worker/queen/solitary\n",
        "\n",
        "#ColSize = size of colony (estimated quantitative number of wasps)\n",
        "\n",
        "#SppN, CasteN, id = keys?\n",
        "\n",
        "#Lip, AL, Coll, OL, Rest = parameters related to brain size (volumes in mm^3)\n",
        "\n",
        "#totbrain = total brain size\n"
      ],
      "metadata": {
        "id": "AoCbicyYLWzs"
      },
      "execution_count": 14,
      "outputs": []
    },
    {
      "cell_type": "code",
      "source": [
        "#bugs_df.head(50)\n",
        "bugs_df['caste'].value_counts()"
      ],
      "metadata": {
        "colab": {
          "base_uri": "https://localhost:8080/",
          "height": 209
        },
        "id": "v6Ez0vqfPvp2",
        "outputId": "0e2c1072-44a8-41a2-a0a4-b71fa792af82"
      },
      "execution_count": 19,
      "outputs": [
        {
          "output_type": "execute_result",
          "data": {
            "text/plain": [
              "caste\n",
              "worker      110\n",
              "queen        59\n",
              "solitary     11\n",
              "Name: count, dtype: int64"
            ],
            "text/html": [
              "<div>\n",
              "<style scoped>\n",
              "    .dataframe tbody tr th:only-of-type {\n",
              "        vertical-align: middle;\n",
              "    }\n",
              "\n",
              "    .dataframe tbody tr th {\n",
              "        vertical-align: top;\n",
              "    }\n",
              "\n",
              "    .dataframe thead th {\n",
              "        text-align: right;\n",
              "    }\n",
              "</style>\n",
              "<table border=\"1\" class=\"dataframe\">\n",
              "  <thead>\n",
              "    <tr style=\"text-align: right;\">\n",
              "      <th></th>\n",
              "      <th>count</th>\n",
              "    </tr>\n",
              "    <tr>\n",
              "      <th>caste</th>\n",
              "      <th></th>\n",
              "    </tr>\n",
              "  </thead>\n",
              "  <tbody>\n",
              "    <tr>\n",
              "      <th>worker</th>\n",
              "      <td>110</td>\n",
              "    </tr>\n",
              "    <tr>\n",
              "      <th>queen</th>\n",
              "      <td>59</td>\n",
              "    </tr>\n",
              "    <tr>\n",
              "      <th>solitary</th>\n",
              "      <td>11</td>\n",
              "    </tr>\n",
              "  </tbody>\n",
              "</table>\n",
              "</div><br><label><b>dtype:</b> int64</label>"
            ]
          },
          "metadata": {},
          "execution_count": 19
        }
      ]
    }
  ]
}