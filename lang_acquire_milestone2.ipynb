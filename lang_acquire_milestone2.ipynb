{
  "nbformat": 4,
  "nbformat_minor": 0,
  "metadata": {
    "colab": {
      "provenance": [],
      "collapsed_sections": [
        "ishIFsuBwZHQ"
      ]
    },
    "kernelspec": {
      "name": "python3",
      "display_name": "Python 3"
    },
    "language_info": {
      "name": "python"
    }
  },
  "cells": [
    {
      "cell_type": "markdown",
      "source": [
        "Ian Faul, Matthew Vuong\n",
        "\n",
        "**ESL to ETL: Investigating English proficiency of 2/3 million speakers**\n",
        "\n",
        "[Link to our website](https://ifaul.github.io/)\n",
        "\n",
        "[Link to CSV file in Drive](https://drive.google.com/file/d/1LJg6wTE_rl3WXP5lOFRoCuatc1WZjEQm/view?usp=share_link)"
      ],
      "metadata": {
        "id": "FjZIyv5b2viP"
      }
    },
    {
      "cell_type": "code",
      "source": [
        "import pandas as pd\n",
        "import numpy as np\n",
        "import matplotlib.pyplot as plt\n",
        "import string\n",
        "import re"
      ],
      "metadata": {
        "id": "Ggv6jtscLMc-"
      },
      "execution_count": 1,
      "outputs": []
    },
    {
      "cell_type": "code",
      "source": [
        "from google.colab import drive\n",
        "drive.mount('/content/drive')\n",
        "%cd /content/drive/MyDrive/'colabNotebooks'"
      ],
      "metadata": {
        "colab": {
          "base_uri": "https://localhost:8080/"
        },
        "id": "ueWnS5jZSAB6",
        "outputId": "ec37272a-d4c3-4133-f8e6-3b88c1329708"
      },
      "execution_count": 2,
      "outputs": [
        {
          "output_type": "stream",
          "name": "stdout",
          "text": [
            "Mounted at /content/drive\n",
            "/content/drive/MyDrive/colabNotebooks\n"
          ]
        }
      ]
    },
    {
      "cell_type": "code",
      "source": [
        "%%shell\n",
        "jupyter nbconvert --to html /content/drive/MyDrive/colabNotebooks/lang_acquire_milestone1.ipynb"
      ],
      "metadata": {
        "id": "JzJETZb8L_eg",
        "colab": {
          "base_uri": "https://localhost:8080/"
        },
        "outputId": "9ac4b571-7a10-4088-cc12-819f96a8d385"
      },
      "execution_count": 3,
      "outputs": [
        {
          "output_type": "stream",
          "name": "stdout",
          "text": [
            "[NbConvertApp] Converting notebook /content/drive/MyDrive/colabNotebooks/lang_acquire_milestone1.ipynb to html\n",
            "[NbConvertApp] Writing 893587 bytes to /content/drive/MyDrive/colabNotebooks/lang_acquire_milestone1.html\n"
          ]
        },
        {
          "output_type": "execute_result",
          "data": {
            "text/plain": []
          },
          "metadata": {},
          "execution_count": 3
        }
      ]
    },
    {
      "cell_type": "markdown",
      "source": [
        "# **Project Goals**\n",
        "\n",
        "How humans acquire new languages, and why some people are better at it than others, remains a remarkably mysterious question. While it is well-known that children are the most efficient language learners and that language-learning ability declines with age, the specific factors contributing to learning ability (age, gender, country of origin, native language, age at start of second language acquisition, etc.) are more complicated. Here, we plan on using a large dataset of close to 650,000 individuals to disentangle some of these factors and, hopefully, create a model that uses them to estimate language learning trajectory for English. In particular, we are curious to see whether there are any patterns in performance on particular questions across various groups, which would reveal both the underlying linguistic features being tested and those that are compartively more difficult to acquire. This was something not examined by the study associated with this dataset (Hartshorne, J.K. et al, 2018); while our intention isn't to directly replicate their findings, our secondary goal is to determine whether our results converge with their conclusions."
      ],
      "metadata": {
        "id": "BwQpHjYKKKbV"
      }
    },
    {
      "cell_type": "markdown",
      "source": [
        "**Collaboration plan**\n",
        "\n",
        "We (Ian Faul and Matthew Vuong) plan on meeting weekly to discuss the project's direction and implementation, assisting each other when necessary. We will also regularly update a document tracking which steps need to be completed and who they are to be completed by to ensure that work is fairly distributed. Lastly, we will establish a shared Github respository to store our code and our updates to it, allowing us to work remotely."
      ],
      "metadata": {
        "id": "gH2HjUyMK-YU"
      }
    },
    {
      "cell_type": "markdown",
      "source": [
        "# **Milestone 1**\n",
        "### **Some ETL**\n",
        "\n",
        "We came across this dataset in the \"Data Is Plural\" archive and downloaded it from [OSF](https://osf.io/pyb8s/wiki/home/). We considered several similar datasets for this project, but this one stood out due to the large number of variables and observations, as well as its being associated with a study whose conclusions we could build on. The original dataset included the following variables:\n",
        "\n",
        "**id** Unique subject ID\n",
        "\n",
        "**date** Date at start of experiment\n",
        "\n",
        "**time** Time at start of experiment\n",
        "\n",
        "**gender**\n",
        "\n",
        "**age**\n",
        "\n",
        "**natlangs** List of subject's native languages\n",
        "\n",
        "**primelangs** List of subject's primary language now\n",
        "\n",
        "**dyslexia** Did subject report difficulty with reading?\n",
        "\n",
        "**psychiatric** Did subject report any psychiatric disorders\n",
        "\n",
        "**education** highest level of education\n",
        "\n",
        "**Eng_start** age at start of English learning\n",
        "\n",
        "**Eng_country_yrs** number of years living in English-speaking country\n",
        "\n",
        "**house_Eng** subject lives with any native English speakers?\n",
        "\n",
        "**dictionary** subject reported using a dictionary to complete experiment\n",
        "\n",
        "**already_participated** Subject reported prior participation in experiment\n",
        "\n",
        "**countries** countries lived in\n",
        "\n",
        "**currcountry** country currently lived in\n",
        "\n",
        "**US_region** regions of USA lived in\n",
        "\n",
        "**UK_region** regions of UK lived in\n",
        "\n",
        "**Can_region** regions of Canada lived in\n",
        "\n",
        "**Ebonics** speaker of Ebonics?\n",
        "\n",
        "**Ir_region** county of Ireland lived in\n",
        "\n",
        "**UK_constituency** constituency of UK lived in\n",
        "\n",
        "**nat_Eng** native speaker of English\n",
        "\n",
        "**lived_Eng_per** Percentage of years speaking English that lived in English-speaking country.\n",
        "\n",
        "**Eng_little** values are monoeng (native speaker of English only), bileng (native speaker of English + at least one other lang), lot (immersion learner), little (non-immersion learner).\n",
        "\n",
        "**q1, q2, etc.** test questions, with subparts\n",
        "\n",
        "**correct** percentage of critical items correct\n",
        "\n",
        "**elogit** elogit of correct (not sure what this means)\n"
      ],
      "metadata": {
        "id": "5kbFvrDsLW2N"
      }
    },
    {
      "cell_type": "markdown",
      "source": [
        "While this data was originally collected for the primary purpose of finding the critical point in development where grammar-learning ability begins to decline (their finding: 17.4 years), some other specific questions this dataset allows us to consider are (1) Can the test questions be grouped into distinct types, other than the syntactic phenomena explicity included by the original researchers, based on systematic differences in performance among groups? (2) Are there systematic differences in the performance of speakers of native languages other than English? In other words, in which ways do speakers of some languages (or language groups) perform better or worse than others? (3) For people at or above the critical age found in the original study, which variables are associated with the highest overall performance or performance on specific questions/question types?\n",
        "\n",
        "In the following section, we consider a more workable subset of 10,000 observations, removing variables likely of little relevance, creating new columns to more easily access information separated by commas in individual cells in the original data table, making values within columns consistent and of the correct data type, and lastly, tidying it up."
      ],
      "metadata": {
        "id": "s5RxmbvAxMmy"
      }
    },
    {
      "cell_type": "code",
      "source": [
        "df_lang = pd.read_csv('data.csv', nrows=100001)\n",
        "df_lang.head()"
      ],
      "metadata": {
        "colab": {
          "base_uri": "https://localhost:8080/",
          "height": 398
        },
        "id": "1X4VC4R5cptH",
        "outputId": "51d3115f-fc95-4051-eef3-b9443719b60d"
      },
      "execution_count": 4,
      "outputs": [
        {
          "output_type": "stream",
          "name": "stderr",
          "text": [
            "<ipython-input-4-a1f1fb77e63c>:1: DtypeWarning: Columns (22,23) have mixed types. Specify dtype option on import or set low_memory=False.\n",
            "  df_lang = pd.read_csv('data.csv', nrows=100001)\n"
          ]
        },
        {
          "output_type": "execute_result",
          "data": {
            "text/plain": [
              "   Unnamed: 0   id        date      time gender  age  \\\n",
              "0           1  2.0  2014-05-29  01:00:55   male   31   \n",
              "1           2  3.0  2014-05-29  01:01:03   male   30   \n",
              "2           3  3.0  2014-05-29  01:01:03   male   30   \n",
              "3           4  4.0  2014-05-29  01:01:13   male   19   \n",
              "4           5  5.0  2014-05-29  01:01:19   male   20   \n",
              "\n",
              "                    natlangs                 primelangs  dyslexia  \\\n",
              "0                    English                    English         0   \n",
              "1                    English                    English         0   \n",
              "2                    English                    English         0   \n",
              "3                    English                    English         0   \n",
              "4  Chinese/Mandarin, English  Chinese/Mandarin, English         0   \n",
              "\n",
              "   psychiatric  ... q34_6 q34_8  q35_1  q35_2  q35_4  q35_5  q35_7 q35_8  \\\n",
              "0            0  ...     1     1      1      1      1      1      1     1   \n",
              "1            1  ...     1     1      1      1      1      1      1     1   \n",
              "2            1  ...     1     1      1      1      1      1      1     1   \n",
              "3            0  ...     1     1      1      1      1      0      1     1   \n",
              "4            0  ...     1     1      1      1      1      0      1     1   \n",
              "\n",
              "    correct    elogit  \n",
              "0  0.978947  3.621671  \n",
              "1  1.000000  5.252273  \n",
              "2  1.000000  5.252273  \n",
              "3  0.905263  2.208853  \n",
              "4  0.947368  2.800602  \n",
              "\n",
              "[5 rows x 128 columns]"
            ],
            "text/html": [
              "\n",
              "  <div id=\"df-3f2bb381-3d6f-487f-aad1-20f20908631b\" class=\"colab-df-container\">\n",
              "    <div>\n",
              "<style scoped>\n",
              "    .dataframe tbody tr th:only-of-type {\n",
              "        vertical-align: middle;\n",
              "    }\n",
              "\n",
              "    .dataframe tbody tr th {\n",
              "        vertical-align: top;\n",
              "    }\n",
              "\n",
              "    .dataframe thead th {\n",
              "        text-align: right;\n",
              "    }\n",
              "</style>\n",
              "<table border=\"1\" class=\"dataframe\">\n",
              "  <thead>\n",
              "    <tr style=\"text-align: right;\">\n",
              "      <th></th>\n",
              "      <th>Unnamed: 0</th>\n",
              "      <th>id</th>\n",
              "      <th>date</th>\n",
              "      <th>time</th>\n",
              "      <th>gender</th>\n",
              "      <th>age</th>\n",
              "      <th>natlangs</th>\n",
              "      <th>primelangs</th>\n",
              "      <th>dyslexia</th>\n",
              "      <th>psychiatric</th>\n",
              "      <th>...</th>\n",
              "      <th>q34_6</th>\n",
              "      <th>q34_8</th>\n",
              "      <th>q35_1</th>\n",
              "      <th>q35_2</th>\n",
              "      <th>q35_4</th>\n",
              "      <th>q35_5</th>\n",
              "      <th>q35_7</th>\n",
              "      <th>q35_8</th>\n",
              "      <th>correct</th>\n",
              "      <th>elogit</th>\n",
              "    </tr>\n",
              "  </thead>\n",
              "  <tbody>\n",
              "    <tr>\n",
              "      <th>0</th>\n",
              "      <td>1</td>\n",
              "      <td>2.0</td>\n",
              "      <td>2014-05-29</td>\n",
              "      <td>01:00:55</td>\n",
              "      <td>male</td>\n",
              "      <td>31</td>\n",
              "      <td>English</td>\n",
              "      <td>English</td>\n",
              "      <td>0</td>\n",
              "      <td>0</td>\n",
              "      <td>...</td>\n",
              "      <td>1</td>\n",
              "      <td>1</td>\n",
              "      <td>1</td>\n",
              "      <td>1</td>\n",
              "      <td>1</td>\n",
              "      <td>1</td>\n",
              "      <td>1</td>\n",
              "      <td>1</td>\n",
              "      <td>0.978947</td>\n",
              "      <td>3.621671</td>\n",
              "    </tr>\n",
              "    <tr>\n",
              "      <th>1</th>\n",
              "      <td>2</td>\n",
              "      <td>3.0</td>\n",
              "      <td>2014-05-29</td>\n",
              "      <td>01:01:03</td>\n",
              "      <td>male</td>\n",
              "      <td>30</td>\n",
              "      <td>English</td>\n",
              "      <td>English</td>\n",
              "      <td>0</td>\n",
              "      <td>1</td>\n",
              "      <td>...</td>\n",
              "      <td>1</td>\n",
              "      <td>1</td>\n",
              "      <td>1</td>\n",
              "      <td>1</td>\n",
              "      <td>1</td>\n",
              "      <td>1</td>\n",
              "      <td>1</td>\n",
              "      <td>1</td>\n",
              "      <td>1.000000</td>\n",
              "      <td>5.252273</td>\n",
              "    </tr>\n",
              "    <tr>\n",
              "      <th>2</th>\n",
              "      <td>3</td>\n",
              "      <td>3.0</td>\n",
              "      <td>2014-05-29</td>\n",
              "      <td>01:01:03</td>\n",
              "      <td>male</td>\n",
              "      <td>30</td>\n",
              "      <td>English</td>\n",
              "      <td>English</td>\n",
              "      <td>0</td>\n",
              "      <td>1</td>\n",
              "      <td>...</td>\n",
              "      <td>1</td>\n",
              "      <td>1</td>\n",
              "      <td>1</td>\n",
              "      <td>1</td>\n",
              "      <td>1</td>\n",
              "      <td>1</td>\n",
              "      <td>1</td>\n",
              "      <td>1</td>\n",
              "      <td>1.000000</td>\n",
              "      <td>5.252273</td>\n",
              "    </tr>\n",
              "    <tr>\n",
              "      <th>3</th>\n",
              "      <td>4</td>\n",
              "      <td>4.0</td>\n",
              "      <td>2014-05-29</td>\n",
              "      <td>01:01:13</td>\n",
              "      <td>male</td>\n",
              "      <td>19</td>\n",
              "      <td>English</td>\n",
              "      <td>English</td>\n",
              "      <td>0</td>\n",
              "      <td>0</td>\n",
              "      <td>...</td>\n",
              "      <td>1</td>\n",
              "      <td>1</td>\n",
              "      <td>1</td>\n",
              "      <td>1</td>\n",
              "      <td>1</td>\n",
              "      <td>0</td>\n",
              "      <td>1</td>\n",
              "      <td>1</td>\n",
              "      <td>0.905263</td>\n",
              "      <td>2.208853</td>\n",
              "    </tr>\n",
              "    <tr>\n",
              "      <th>4</th>\n",
              "      <td>5</td>\n",
              "      <td>5.0</td>\n",
              "      <td>2014-05-29</td>\n",
              "      <td>01:01:19</td>\n",
              "      <td>male</td>\n",
              "      <td>20</td>\n",
              "      <td>Chinese/Mandarin, English</td>\n",
              "      <td>Chinese/Mandarin, English</td>\n",
              "      <td>0</td>\n",
              "      <td>0</td>\n",
              "      <td>...</td>\n",
              "      <td>1</td>\n",
              "      <td>1</td>\n",
              "      <td>1</td>\n",
              "      <td>1</td>\n",
              "      <td>1</td>\n",
              "      <td>0</td>\n",
              "      <td>1</td>\n",
              "      <td>1</td>\n",
              "      <td>0.947368</td>\n",
              "      <td>2.800602</td>\n",
              "    </tr>\n",
              "  </tbody>\n",
              "</table>\n",
              "<p>5 rows × 128 columns</p>\n",
              "</div>\n",
              "    <div class=\"colab-df-buttons\">\n",
              "\n",
              "  <div class=\"colab-df-container\">\n",
              "    <button class=\"colab-df-convert\" onclick=\"convertToInteractive('df-3f2bb381-3d6f-487f-aad1-20f20908631b')\"\n",
              "            title=\"Convert this dataframe to an interactive table.\"\n",
              "            style=\"display:none;\">\n",
              "\n",
              "  <svg xmlns=\"http://www.w3.org/2000/svg\" height=\"24px\" viewBox=\"0 -960 960 960\">\n",
              "    <path d=\"M120-120v-720h720v720H120Zm60-500h600v-160H180v160Zm220 220h160v-160H400v160Zm0 220h160v-160H400v160ZM180-400h160v-160H180v160Zm440 0h160v-160H620v160ZM180-180h160v-160H180v160Zm440 0h160v-160H620v160Z\"/>\n",
              "  </svg>\n",
              "    </button>\n",
              "\n",
              "  <style>\n",
              "    .colab-df-container {\n",
              "      display:flex;\n",
              "      gap: 12px;\n",
              "    }\n",
              "\n",
              "    .colab-df-convert {\n",
              "      background-color: #E8F0FE;\n",
              "      border: none;\n",
              "      border-radius: 50%;\n",
              "      cursor: pointer;\n",
              "      display: none;\n",
              "      fill: #1967D2;\n",
              "      height: 32px;\n",
              "      padding: 0 0 0 0;\n",
              "      width: 32px;\n",
              "    }\n",
              "\n",
              "    .colab-df-convert:hover {\n",
              "      background-color: #E2EBFA;\n",
              "      box-shadow: 0px 1px 2px rgba(60, 64, 67, 0.3), 0px 1px 3px 1px rgba(60, 64, 67, 0.15);\n",
              "      fill: #174EA6;\n",
              "    }\n",
              "\n",
              "    .colab-df-buttons div {\n",
              "      margin-bottom: 4px;\n",
              "    }\n",
              "\n",
              "    [theme=dark] .colab-df-convert {\n",
              "      background-color: #3B4455;\n",
              "      fill: #D2E3FC;\n",
              "    }\n",
              "\n",
              "    [theme=dark] .colab-df-convert:hover {\n",
              "      background-color: #434B5C;\n",
              "      box-shadow: 0px 1px 3px 1px rgba(0, 0, 0, 0.15);\n",
              "      filter: drop-shadow(0px 1px 2px rgba(0, 0, 0, 0.3));\n",
              "      fill: #FFFFFF;\n",
              "    }\n",
              "  </style>\n",
              "\n",
              "    <script>\n",
              "      const buttonEl =\n",
              "        document.querySelector('#df-3f2bb381-3d6f-487f-aad1-20f20908631b button.colab-df-convert');\n",
              "      buttonEl.style.display =\n",
              "        google.colab.kernel.accessAllowed ? 'block' : 'none';\n",
              "\n",
              "      async function convertToInteractive(key) {\n",
              "        const element = document.querySelector('#df-3f2bb381-3d6f-487f-aad1-20f20908631b');\n",
              "        const dataTable =\n",
              "          await google.colab.kernel.invokeFunction('convertToInteractive',\n",
              "                                                    [key], {});\n",
              "        if (!dataTable) return;\n",
              "\n",
              "        const docLinkHtml = 'Like what you see? Visit the ' +\n",
              "          '<a target=\"_blank\" href=https://colab.research.google.com/notebooks/data_table.ipynb>data table notebook</a>'\n",
              "          + ' to learn more about interactive tables.';\n",
              "        element.innerHTML = '';\n",
              "        dataTable['output_type'] = 'display_data';\n",
              "        await google.colab.output.renderOutput(dataTable, element);\n",
              "        const docLink = document.createElement('div');\n",
              "        docLink.innerHTML = docLinkHtml;\n",
              "        element.appendChild(docLink);\n",
              "      }\n",
              "    </script>\n",
              "  </div>\n",
              "\n",
              "\n",
              "<div id=\"df-fd618a43-4ff9-43bf-a8f7-f81bc3cd0e50\">\n",
              "  <button class=\"colab-df-quickchart\" onclick=\"quickchart('df-fd618a43-4ff9-43bf-a8f7-f81bc3cd0e50')\"\n",
              "            title=\"Suggest charts\"\n",
              "            style=\"display:none;\">\n",
              "\n",
              "<svg xmlns=\"http://www.w3.org/2000/svg\" height=\"24px\"viewBox=\"0 0 24 24\"\n",
              "     width=\"24px\">\n",
              "    <g>\n",
              "        <path d=\"M19 3H5c-1.1 0-2 .9-2 2v14c0 1.1.9 2 2 2h14c1.1 0 2-.9 2-2V5c0-1.1-.9-2-2-2zM9 17H7v-7h2v7zm4 0h-2V7h2v10zm4 0h-2v-4h2v4z\"/>\n",
              "    </g>\n",
              "</svg>\n",
              "  </button>\n",
              "\n",
              "<style>\n",
              "  .colab-df-quickchart {\n",
              "      --bg-color: #E8F0FE;\n",
              "      --fill-color: #1967D2;\n",
              "      --hover-bg-color: #E2EBFA;\n",
              "      --hover-fill-color: #174EA6;\n",
              "      --disabled-fill-color: #AAA;\n",
              "      --disabled-bg-color: #DDD;\n",
              "  }\n",
              "\n",
              "  [theme=dark] .colab-df-quickchart {\n",
              "      --bg-color: #3B4455;\n",
              "      --fill-color: #D2E3FC;\n",
              "      --hover-bg-color: #434B5C;\n",
              "      --hover-fill-color: #FFFFFF;\n",
              "      --disabled-bg-color: #3B4455;\n",
              "      --disabled-fill-color: #666;\n",
              "  }\n",
              "\n",
              "  .colab-df-quickchart {\n",
              "    background-color: var(--bg-color);\n",
              "    border: none;\n",
              "    border-radius: 50%;\n",
              "    cursor: pointer;\n",
              "    display: none;\n",
              "    fill: var(--fill-color);\n",
              "    height: 32px;\n",
              "    padding: 0;\n",
              "    width: 32px;\n",
              "  }\n",
              "\n",
              "  .colab-df-quickchart:hover {\n",
              "    background-color: var(--hover-bg-color);\n",
              "    box-shadow: 0 1px 2px rgba(60, 64, 67, 0.3), 0 1px 3px 1px rgba(60, 64, 67, 0.15);\n",
              "    fill: var(--button-hover-fill-color);\n",
              "  }\n",
              "\n",
              "  .colab-df-quickchart-complete:disabled,\n",
              "  .colab-df-quickchart-complete:disabled:hover {\n",
              "    background-color: var(--disabled-bg-color);\n",
              "    fill: var(--disabled-fill-color);\n",
              "    box-shadow: none;\n",
              "  }\n",
              "\n",
              "  .colab-df-spinner {\n",
              "    border: 2px solid var(--fill-color);\n",
              "    border-color: transparent;\n",
              "    border-bottom-color: var(--fill-color);\n",
              "    animation:\n",
              "      spin 1s steps(1) infinite;\n",
              "  }\n",
              "\n",
              "  @keyframes spin {\n",
              "    0% {\n",
              "      border-color: transparent;\n",
              "      border-bottom-color: var(--fill-color);\n",
              "      border-left-color: var(--fill-color);\n",
              "    }\n",
              "    20% {\n",
              "      border-color: transparent;\n",
              "      border-left-color: var(--fill-color);\n",
              "      border-top-color: var(--fill-color);\n",
              "    }\n",
              "    30% {\n",
              "      border-color: transparent;\n",
              "      border-left-color: var(--fill-color);\n",
              "      border-top-color: var(--fill-color);\n",
              "      border-right-color: var(--fill-color);\n",
              "    }\n",
              "    40% {\n",
              "      border-color: transparent;\n",
              "      border-right-color: var(--fill-color);\n",
              "      border-top-color: var(--fill-color);\n",
              "    }\n",
              "    60% {\n",
              "      border-color: transparent;\n",
              "      border-right-color: var(--fill-color);\n",
              "    }\n",
              "    80% {\n",
              "      border-color: transparent;\n",
              "      border-right-color: var(--fill-color);\n",
              "      border-bottom-color: var(--fill-color);\n",
              "    }\n",
              "    90% {\n",
              "      border-color: transparent;\n",
              "      border-bottom-color: var(--fill-color);\n",
              "    }\n",
              "  }\n",
              "</style>\n",
              "\n",
              "  <script>\n",
              "    async function quickchart(key) {\n",
              "      const quickchartButtonEl =\n",
              "        document.querySelector('#' + key + ' button');\n",
              "      quickchartButtonEl.disabled = true;  // To prevent multiple clicks.\n",
              "      quickchartButtonEl.classList.add('colab-df-spinner');\n",
              "      try {\n",
              "        const charts = await google.colab.kernel.invokeFunction(\n",
              "            'suggestCharts', [key], {});\n",
              "      } catch (error) {\n",
              "        console.error('Error during call to suggestCharts:', error);\n",
              "      }\n",
              "      quickchartButtonEl.classList.remove('colab-df-spinner');\n",
              "      quickchartButtonEl.classList.add('colab-df-quickchart-complete');\n",
              "    }\n",
              "    (() => {\n",
              "      let quickchartButtonEl =\n",
              "        document.querySelector('#df-fd618a43-4ff9-43bf-a8f7-f81bc3cd0e50 button');\n",
              "      quickchartButtonEl.style.display =\n",
              "        google.colab.kernel.accessAllowed ? 'block' : 'none';\n",
              "    })();\n",
              "  </script>\n",
              "</div>\n",
              "\n",
              "    </div>\n",
              "  </div>\n"
            ],
            "application/vnd.google.colaboratory.intrinsic+json": {
              "type": "dataframe",
              "variable_name": "df_lang"
            }
          },
          "metadata": {},
          "execution_count": 4
        }
      ]
    },
    {
      "cell_type": "code",
      "source": [
        "# Remove unnecessary variables\n",
        "\n",
        "df_lang.drop(columns=['Unnamed: 0', 'date', 'time', 'US_region', 'UK_region',\n",
        "                      'Can_region', 'Ir_region', 'UK_constituency', 'tests'], inplace=True)"
      ],
      "metadata": {
        "id": "V79_WmR6NuOA"
      },
      "execution_count": 5,
      "outputs": []
    },
    {
      "cell_type": "code",
      "source": [
        "# Strip whitespace in all columns\n",
        "\n",
        "df_lang = df_lang.map(lambda x: x.strip() if isinstance(x, str) else x)\n",
        "\n",
        "# Remove strange values in some variables\n",
        "\n",
        "df_lang['education'].unique() # There are some crazy values in here!\n",
        "\n",
        "def replace_school_with_NAN(entry, allowed_list):\n",
        "    if entry not in allowed_list:\n",
        "        return np.nan\n",
        "    return entry\n",
        "\n",
        "# These appear to be the original choices offered in the questionnaire.\n",
        "allowed_list = ['Graduate Degree', 'Undergraduate Degree (3-5 years higher ed)',\n",
        "                'Some Undergrad (higher ed)', 'High School Degree (12-13 years)',\n",
        "                'Some Graduate School', 'Didn''t Finish High School (less than 13 years ed)']\n",
        "\n",
        "\n",
        "df_lang['education'] = df_lang['education'].apply(lambda x: replace_school_with_NAN(x, allowed_list))"
      ],
      "metadata": {
        "id": "vAYF-GraSDk1"
      },
      "execution_count": 16,
      "outputs": []
    },
    {
      "cell_type": "code",
      "source": [
        "# Remove duplicates\n",
        "df_lang.drop_duplicates(subset=['id'], inplace=True)"
      ],
      "metadata": {
        "id": "Al499wZMZ2Gb"
      },
      "execution_count": 7,
      "outputs": []
    },
    {
      "cell_type": "code",
      "source": [
        "# Confirm that all variables are of the correct data type\n",
        "\n",
        "display(df_lang[['dyslexia', 'psychiatric', 'education', 'Eng_start', 'Eng_country_yrs',\n",
        "         'house_Eng', 'dictionary', 'already_participated', 'countries', 'currcountry',\n",
        "         'nat_Eng', 'prime_Eng', 'speaker_cat', 'Eng_little']].dtypes) # Checking to see which data types are incorrect\n",
        "\n",
        "df_lang[['dyslexia', 'psychiatric','dictionary',\n",
        "         'already_participated','nat_Eng', 'prime_Eng']] = df_lang[['dyslexia','psychiatric','dictionary', 'already_participated','nat_Eng', 'prime_Eng']].astype('bool')\n",
        "display(df_lang[['dyslexia', 'psychiatric','dictionary', 'already_participated','nat_Eng', 'prime_Eng']].dtypes) # Converting appropriate colums to bools\n",
        "\n",
        "# Select all question columns\n",
        "questions = pd.Series(df_lang.columns).str.startswith('q')\n",
        "question_cols = df_lang.columns[questions]\n",
        "\n",
        "# Convert question columns to bools\n",
        "df_lang[question_cols] = df_lang[question_cols].astype('bool')\n",
        "display(df_lang[question_cols].dtypes)"
      ],
      "metadata": {
        "colab": {
          "base_uri": "https://localhost:8080/",
          "height": 1000
        },
        "id": "POhUS6dDrfgA",
        "outputId": "36816a77-6476-4759-b8b7-97f9f1bf2ba6"
      },
      "execution_count": 17,
      "outputs": [
        {
          "output_type": "display_data",
          "data": {
            "text/plain": [
              "dyslexia                   bool\n",
              "psychiatric                bool\n",
              "education                object\n",
              "Eng_start                 int64\n",
              "Eng_country_yrs         float64\n",
              "house_Eng               float64\n",
              "dictionary                 bool\n",
              "already_participated       bool\n",
              "countries                object\n",
              "currcountry              object\n",
              "nat_Eng                    bool\n",
              "prime_Eng                  bool\n",
              "speaker_cat              object\n",
              "Eng_little               object\n",
              "dtype: object"
            ],
            "text/html": [
              "<div>\n",
              "<style scoped>\n",
              "    .dataframe tbody tr th:only-of-type {\n",
              "        vertical-align: middle;\n",
              "    }\n",
              "\n",
              "    .dataframe tbody tr th {\n",
              "        vertical-align: top;\n",
              "    }\n",
              "\n",
              "    .dataframe thead th {\n",
              "        text-align: right;\n",
              "    }\n",
              "</style>\n",
              "<table border=\"1\" class=\"dataframe\">\n",
              "  <thead>\n",
              "    <tr style=\"text-align: right;\">\n",
              "      <th></th>\n",
              "      <th>0</th>\n",
              "    </tr>\n",
              "  </thead>\n",
              "  <tbody>\n",
              "    <tr>\n",
              "      <th>dyslexia</th>\n",
              "      <td>bool</td>\n",
              "    </tr>\n",
              "    <tr>\n",
              "      <th>psychiatric</th>\n",
              "      <td>bool</td>\n",
              "    </tr>\n",
              "    <tr>\n",
              "      <th>education</th>\n",
              "      <td>object</td>\n",
              "    </tr>\n",
              "    <tr>\n",
              "      <th>Eng_start</th>\n",
              "      <td>int64</td>\n",
              "    </tr>\n",
              "    <tr>\n",
              "      <th>Eng_country_yrs</th>\n",
              "      <td>float64</td>\n",
              "    </tr>\n",
              "    <tr>\n",
              "      <th>house_Eng</th>\n",
              "      <td>float64</td>\n",
              "    </tr>\n",
              "    <tr>\n",
              "      <th>dictionary</th>\n",
              "      <td>bool</td>\n",
              "    </tr>\n",
              "    <tr>\n",
              "      <th>already_participated</th>\n",
              "      <td>bool</td>\n",
              "    </tr>\n",
              "    <tr>\n",
              "      <th>countries</th>\n",
              "      <td>object</td>\n",
              "    </tr>\n",
              "    <tr>\n",
              "      <th>currcountry</th>\n",
              "      <td>object</td>\n",
              "    </tr>\n",
              "    <tr>\n",
              "      <th>nat_Eng</th>\n",
              "      <td>bool</td>\n",
              "    </tr>\n",
              "    <tr>\n",
              "      <th>prime_Eng</th>\n",
              "      <td>bool</td>\n",
              "    </tr>\n",
              "    <tr>\n",
              "      <th>speaker_cat</th>\n",
              "      <td>object</td>\n",
              "    </tr>\n",
              "    <tr>\n",
              "      <th>Eng_little</th>\n",
              "      <td>object</td>\n",
              "    </tr>\n",
              "  </tbody>\n",
              "</table>\n",
              "</div><br><label><b>dtype:</b> object</label>"
            ]
          },
          "metadata": {}
        },
        {
          "output_type": "display_data",
          "data": {
            "text/plain": [
              "dyslexia                bool\n",
              "psychiatric             bool\n",
              "dictionary              bool\n",
              "already_participated    bool\n",
              "nat_Eng                 bool\n",
              "prime_Eng               bool\n",
              "dtype: object"
            ],
            "text/html": [
              "<div>\n",
              "<style scoped>\n",
              "    .dataframe tbody tr th:only-of-type {\n",
              "        vertical-align: middle;\n",
              "    }\n",
              "\n",
              "    .dataframe tbody tr th {\n",
              "        vertical-align: top;\n",
              "    }\n",
              "\n",
              "    .dataframe thead th {\n",
              "        text-align: right;\n",
              "    }\n",
              "</style>\n",
              "<table border=\"1\" class=\"dataframe\">\n",
              "  <thead>\n",
              "    <tr style=\"text-align: right;\">\n",
              "      <th></th>\n",
              "      <th>0</th>\n",
              "    </tr>\n",
              "  </thead>\n",
              "  <tbody>\n",
              "    <tr>\n",
              "      <th>dyslexia</th>\n",
              "      <td>bool</td>\n",
              "    </tr>\n",
              "    <tr>\n",
              "      <th>psychiatric</th>\n",
              "      <td>bool</td>\n",
              "    </tr>\n",
              "    <tr>\n",
              "      <th>dictionary</th>\n",
              "      <td>bool</td>\n",
              "    </tr>\n",
              "    <tr>\n",
              "      <th>already_participated</th>\n",
              "      <td>bool</td>\n",
              "    </tr>\n",
              "    <tr>\n",
              "      <th>nat_Eng</th>\n",
              "      <td>bool</td>\n",
              "    </tr>\n",
              "    <tr>\n",
              "      <th>prime_Eng</th>\n",
              "      <td>bool</td>\n",
              "    </tr>\n",
              "  </tbody>\n",
              "</table>\n",
              "</div><br><label><b>dtype:</b> object</label>"
            ]
          },
          "metadata": {}
        },
        {
          "output_type": "display_data",
          "data": {
            "text/plain": [
              "q1       bool\n",
              "q2       bool\n",
              "q3       bool\n",
              "q5       bool\n",
              "q6       bool\n",
              "         ... \n",
              "q35_2    bool\n",
              "q35_4    bool\n",
              "q35_5    bool\n",
              "q35_7    bool\n",
              "q35_8    bool\n",
              "Length: 95, dtype: object"
            ],
            "text/html": [
              "<div>\n",
              "<style scoped>\n",
              "    .dataframe tbody tr th:only-of-type {\n",
              "        vertical-align: middle;\n",
              "    }\n",
              "\n",
              "    .dataframe tbody tr th {\n",
              "        vertical-align: top;\n",
              "    }\n",
              "\n",
              "    .dataframe thead th {\n",
              "        text-align: right;\n",
              "    }\n",
              "</style>\n",
              "<table border=\"1\" class=\"dataframe\">\n",
              "  <thead>\n",
              "    <tr style=\"text-align: right;\">\n",
              "      <th></th>\n",
              "      <th>0</th>\n",
              "    </tr>\n",
              "  </thead>\n",
              "  <tbody>\n",
              "    <tr>\n",
              "      <th>q1</th>\n",
              "      <td>bool</td>\n",
              "    </tr>\n",
              "    <tr>\n",
              "      <th>q2</th>\n",
              "      <td>bool</td>\n",
              "    </tr>\n",
              "    <tr>\n",
              "      <th>q3</th>\n",
              "      <td>bool</td>\n",
              "    </tr>\n",
              "    <tr>\n",
              "      <th>q5</th>\n",
              "      <td>bool</td>\n",
              "    </tr>\n",
              "    <tr>\n",
              "      <th>q6</th>\n",
              "      <td>bool</td>\n",
              "    </tr>\n",
              "    <tr>\n",
              "      <th>...</th>\n",
              "      <td>...</td>\n",
              "    </tr>\n",
              "    <tr>\n",
              "      <th>q35_2</th>\n",
              "      <td>bool</td>\n",
              "    </tr>\n",
              "    <tr>\n",
              "      <th>q35_4</th>\n",
              "      <td>bool</td>\n",
              "    </tr>\n",
              "    <tr>\n",
              "      <th>q35_5</th>\n",
              "      <td>bool</td>\n",
              "    </tr>\n",
              "    <tr>\n",
              "      <th>q35_7</th>\n",
              "      <td>bool</td>\n",
              "    </tr>\n",
              "    <tr>\n",
              "      <th>q35_8</th>\n",
              "      <td>bool</td>\n",
              "    </tr>\n",
              "  </tbody>\n",
              "</table>\n",
              "<p>95 rows × 1 columns</p>\n",
              "</div><br><label><b>dtype:</b> object</label>"
            ]
          },
          "metadata": {}
        }
      ]
    },
    {
      "cell_type": "code",
      "source": [
        "# Check for the maximum numbers of natlangs and primelangs\n",
        "\n",
        "# The number of languages known is equal to the number of commas plus 1.\n",
        "natlangs = df_lang['natlangs'].str.count(',') + 1\n",
        "display(natlangs.max())\n",
        "\n",
        "primelangs = df_lang['primelangs'].str.count(',') + 1\n",
        "primelangs.max()"
      ],
      "metadata": {
        "id": "uMvnFoVhK7e2",
        "colab": {
          "base_uri": "https://localhost:8080/",
          "height": 52
        },
        "outputId": "90f8b4c2-7183-4518-f97a-88834aaa8841"
      },
      "execution_count": 11,
      "outputs": [
        {
          "output_type": "display_data",
          "data": {
            "text/plain": [
              "7.0"
            ]
          },
          "metadata": {}
        },
        {
          "output_type": "execute_result",
          "data": {
            "text/plain": [
              "10.0"
            ]
          },
          "metadata": {},
          "execution_count": 11
        }
      ]
    },
    {
      "cell_type": "code",
      "source": [
        "# Tidying natlangs and primelangs\n",
        "\n",
        "df_ref_natlang = pd.concat([df_lang['natlangs'].str.split(', ', expand=True),df_lang['id']],axis=1)\n",
        "df_ref_natlang = pd.melt(df_ref_natlang,id_vars=['id'],value_vars=[0,1,2,3,4]).dropna() # This dropna does drop some observations because some people put no values for natlangs. not sure if we wanted them anyway\n",
        "df_ref_natlang = df_ref_natlang.drop(columns=['variable']).set_index(['id']).sort_index()\n",
        "\n",
        "df_ref_primelang = pd.concat([df_lang['primelangs'].str.split(', ', expand=True),df_lang['id']],axis=1)\n",
        "df_ref_primelang = pd.melt(df_ref_primelang,id_vars=['id'],value_vars=[0,1,2,3,4,5,6,7]).dropna() # This dropna does drop some observations because some people put no values for natlangs. not sure if we wanted them anyway\n",
        "df_ref_primelang = df_ref_primelang.drop(columns=['variable']).set_index(['id']).sort_index()\n",
        "\n",
        "# Combine all forms of Chinese for simplicity (and future merging)\n",
        "df_ref_natlang['value'] = df_ref_natlang['value'].str.replace(r'^Chinese.*', 'Chinese', regex=True)\n",
        "df_ref_primelang['value'] = df_ref_primelang['value'].str.replace(r'^Chinese.*', 'Chinese', regex=True)\n",
        "\n",
        "# Strip whitespace around language values\n",
        "df_ref_natlang['value'] = df_ref_natlang['value'].str.strip()\n",
        "df_ref_primelang['value'] = df_ref_primelang['value'].str.strip()\n",
        "\n",
        "df_linginfo_merged = pd.merge(df_ref_natlang, df_ref_primelang, on='id', how='outer').rename(columns={'value_x': 'natlang', 'value_y': 'primelang'})"
      ],
      "metadata": {
        "id": "b5AsFp1WUHik"
      },
      "execution_count": 23,
      "outputs": []
    },
    {
      "cell_type": "code",
      "source": [
        "df_lang_tidy = df_lang.drop(columns=['natlangs','primelangs'])\n",
        "df_lang_tidy = df_lang_tidy.merge(df_linginfo_merged, on='id', how='outer')"
      ],
      "metadata": {
        "id": "OPSaMpAH-3Bg"
      },
      "execution_count": 24,
      "outputs": []
    },
    {
      "cell_type": "markdown",
      "source": [
        "The greatest challenge that we faced in the ETL section was splitting the natlang and primelang columns and adding them back to the dataframe before tidying it."
      ],
      "metadata": {
        "id": "lNU3qKDd1gJ4"
      }
    },
    {
      "cell_type": "markdown",
      "source": [
        "### **Some EDA**\n",
        "\n",
        "Here, we give some summary statistics for native and primary languages."
      ],
      "metadata": {
        "id": "ishIFsuBwZHQ"
      }
    },
    {
      "cell_type": "code",
      "source": [
        "# Number of native languages\n",
        "\n",
        "natlangs.value_counts().plot.bar()\n",
        "natlangs.describe()"
      ],
      "metadata": {
        "id": "xvrxw3RrvQaA"
      },
      "execution_count": null,
      "outputs": []
    },
    {
      "cell_type": "code",
      "source": [
        "# Number of primary languages\n",
        "\n",
        "primelangs.value_counts().plot.bar()\n",
        "primelangs.describe()"
      ],
      "metadata": {
        "id": "EsiRrZw_j9wu"
      },
      "execution_count": null,
      "outputs": []
    },
    {
      "cell_type": "code",
      "source": [
        "# Histogram of age of participants\n",
        "\n",
        "df_lang['age'].plot.hist(xlabel='Age', bins=30)\n",
        "df_lang['age'].describe()"
      ],
      "metadata": {
        "id": "3Jd3h61jTicI"
      },
      "execution_count": null,
      "outputs": []
    },
    {
      "cell_type": "code",
      "source": [
        "# Histogram of first English exposure for non-native speakers\n",
        "\n",
        "df_lang_nonnat = df_lang[df_lang['nat_Eng'] == 0]\n",
        "df_lang_nonnat['Eng_start'].plot.hist(bins=30, xlabel='Age')\n",
        "df_lang_nonnat['Eng_start'].describe()"
      ],
      "metadata": {
        "id": "tmALHA4YKt4u"
      },
      "execution_count": null,
      "outputs": []
    },
    {
      "cell_type": "code",
      "source": [
        "# Pie chart showing the percentages of non-native English speakers in the dataset\n",
        "\n",
        "df_natlang_other = pd.Series(df_ref_natlang.value_counts().iloc[10:].sum(), index=['Other'])\n",
        "df_natlang_pie = pd.concat([df_ref_natlang.value_counts().iloc[0:10], df_natlang_other])\n",
        "\n",
        "fig, ax = plt.subplots(figsize=(8, 8))\n",
        "colors = ['firebrick', 'slateblue', 'green', 'yellow', 'orange', 'purple', 'pink', 'brown', 'gray', 'cyan', 'olive']\n",
        "\n",
        "ax.pie(x=df_natlang_pie.values, labels=None, colors=colors, autopct='%1.1f%%')\n",
        "plt.legend(df_natlang_pie.index, loc='best')\n",
        "plt.show()"
      ],
      "metadata": {
        "id": "PTOq14SgLFLa"
      },
      "execution_count": null,
      "outputs": []
    },
    {
      "cell_type": "code",
      "source": [
        "# Investigating whether level of education affects proficiency scores\n",
        "\n",
        "df_lang_nonnat[['education','correct']].groupby('education').mean().reindex([\n",
        "    'High School Degree (12-13 years)',\n",
        "    'Some Undergrad (higher ed)',\n",
        "    'Undergraduate Degree (3-5 years higher ed)',\n",
        "    'Some Graduate School',\n",
        "    'Graduate Degree']).plot.bar(ylim=[0.8,1],yerr=df_lang_nonnat[['education','correct']].groupby('education').std(), legend=None)\n",
        "\n",
        "# What about specific questions? What are the most missed questions?\n",
        "df_testinfo = df_lang[question_cols]\n",
        "df_testinfo = df_testinfo.assign(correct=df_lang['correct'], elogit=df_lang['elogit'])\n",
        "\n",
        "df_testinfo.mean().sort_values() # 34_4, 2, 33_5 are top 3 most missed (still over 75% though)"
      ],
      "metadata": {
        "id": "Sna9DVWSs2wF"
      },
      "execution_count": null,
      "outputs": []
    },
    {
      "cell_type": "code",
      "source": [
        "# Investigating whether education level affects the most missed questions\n",
        "\n",
        "df_lang_nonnat[['education','q34_4','q2','q33_5']].groupby('education').mean().reindex([\n",
        "    'High School Degree (12-13 years)',\n",
        "    'Some Undergrad (higher ed)',\n",
        "    'Undergraduate Degree (3-5 years higher ed)',\n",
        "    'Some Graduate School',\n",
        "    'Graduate Degree']).plot.bar()\n",
        "\n",
        "# The answer: not really"
      ],
      "metadata": {
        "id": "OjFjkBp7xS0b"
      },
      "execution_count": null,
      "outputs": []
    },
    {
      "cell_type": "markdown",
      "source": [
        "### Conclusion\n",
        "\n",
        "From these light analyses, we have a better understanding of the demographics of the participants included, and we began to show what relationships might exist between demographic characteristics and English proficiency. We are interested in grouping by native language along with other variables to see if patterns emerge in the scores and types of questions."
      ],
      "metadata": {
        "id": "_HMPfla00mtq"
      }
    },
    {
      "cell_type": "markdown",
      "source": [
        "# Milestone 2\n",
        "\n",
        "In this section, we will explore whether English proficiency varies depending on not just native language, but native language family. We may also choose to investigate whether certain syntactic features present in the native language but not in English (or vice versa) affect performance on particular questions."
      ],
      "metadata": {
        "id": "RaiEJrMyn404"
      }
    },
    {
      "cell_type": "code",
      "source": [
        "%cd /content/drive/MyDrive/colabNotebooks\n",
        "lang_fam_df = pd.read_csv('languages.csv')"
      ],
      "metadata": {
        "id": "D7D_p7VkoFF-"
      },
      "execution_count": null,
      "outputs": []
    },
    {
      "cell_type": "code",
      "source": [
        "# Select only language name and family\n",
        "df_lang_fam = lang_fam_df[['Name', 'Family_name']]\n",
        "\n",
        "# Combine all dialects of Chinese into one variable for merging\n",
        "df_lang_fam.loc[:, 'Name'] = lang_fam_df['Name'].str.replace(r'.*Chinese.*', 'Chinese', regex=True)\n",
        "df_lang_fam.drop_duplicates(inplace=True)\n",
        "\n",
        "# Filter by languages in original dataset\n",
        "df_lang_fam = lang_fam_df[lang_fam_df['Name'].isin(df_ref_natlang['value'])]\n",
        "df_lang_fam.rename(columns={'Name': 'natlang'}, inplace=True)\n",
        "\n",
        "# Merge to add language family column to lang_tidy dataframe\n",
        "df_lang_tidy = df_lang_tidy.merge(df_lang_fam, how='left', on='natlang')"
      ],
      "metadata": {
        "id": "FRdFL6v4oNyX"
      },
      "execution_count": null,
      "outputs": []
    },
    {
      "cell_type": "code",
      "source": [
        "df_lang_tidy"
      ],
      "metadata": {
        "id": "6pcrzqDRykCo"
      },
      "execution_count": null,
      "outputs": []
    }
  ]
}